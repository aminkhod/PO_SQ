{
 "cells": [
  {
   "cell_type": "code",
   "execution_count": 1,
   "metadata": {},
   "outputs": [],
   "source": [
    "import pandas as pd\n",
    "import numpy as np"
   ]
  },
  {
   "cell_type": "code",
   "execution_count": 27,
   "metadata": {},
   "outputs": [],
   "source": [
    "p = pd.read_excel('BAHMANI GROUP LLC SQ PI PO.xlsx')\n",
    "p.to_excel(\"jxvc.xlsx\")"
   ]
  },
  {
   "cell_type": "code",
   "execution_count": 31,
   "metadata": {},
   "outputs": [
    {
     "ename": "SyntaxError",
     "evalue": "can't assign to function call (<ipython-input-31-8e6e4d197ff3>, line 10)",
     "output_type": "error",
     "traceback": [
      "\u001b[1;36m  File \u001b[1;32m\"<ipython-input-31-8e6e4d197ff3>\"\u001b[1;36m, line \u001b[1;32m10\u001b[0m\n\u001b[1;33m    sheet.cell_value(9, 0) = 'gdd'\u001b[0m\n\u001b[1;37m                                  ^\u001b[0m\n\u001b[1;31mSyntaxError\u001b[0m\u001b[1;31m:\u001b[0m can't assign to function call\n"
     ]
    }
   ],
   "source": [
    "import xlrd \n",
    "  \n",
    "# Give the location of the file \n",
    "loc = (\"BAHMANI GROUP LLC SQ PI PO.xlsx\") \n",
    "  \n",
    "# To open Workbook \n",
    "wb = xlrd.open_workbook(loc) \n",
    "sheet = wb.sheet_by_index(0) \n",
    "\n",
    "sheet.cell_value(9, 0) = 'gdd'\n",
    "# For row 0 and column 0 \n",
    "print(sheet.cell_value(9, 0) )\n",
    "\n",
    "# Extracting number of rows \n",
    "print(sheet.nrows) \n",
    "\n",
    "# Extracting number of columns \n",
    "print(sheet.ncols) "
   ]
  },
  {
   "cell_type": "code",
   "execution_count": 29,
   "metadata": {},
   "outputs": [
    {
     "name": "stdout",
     "output_type": "stream",
     "text": [
      "5\n"
     ]
    }
   ],
   "source": [
    "# Program to extract number of \n",
    "# columns in Python \n",
    "import xlrd \n",
    "  \n",
    "loc = (\"BAHMANI GROUP LLC SQ PI PO.xlsx\") \n",
    "  \n",
    "wb = xlrd.open_workbook(loc) \n",
    "sheet = wb.sheet_by_index(0) \n",
    "  \n",
    "# For row 0 and column 0 \n",
    "sheet.cell_value(27, 0) \n",
    "  \n",
    "# Extracting number of columns \n",
    "print(sheet.ncols) "
   ]
  },
  {
   "cell_type": "code",
   "execution_count": null,
   "metadata": {},
   "outputs": [],
   "source": []
  }
 ],
 "metadata": {
  "kernelspec": {
   "display_name": "Python 3",
   "language": "python",
   "name": "python3"
  },
  "language_info": {
   "codemirror_mode": {
    "name": "ipython",
    "version": 3
   },
   "file_extension": ".py",
   "mimetype": "text/x-python",
   "name": "python",
   "nbconvert_exporter": "python",
   "pygments_lexer": "ipython3",
   "version": "3.6.7"
  }
 },
 "nbformat": 4,
 "nbformat_minor": 2
}
