{
 "cells": [
  {
   "cell_type": "code",
   "execution_count": 51,
   "metadata": {},
   "outputs": [
    {
     "name": "stderr",
     "output_type": "stream",
     "text": [
      "c:\\program files\\python36\\lib\\site-packages\\ipykernel_launcher.py:12: DeprecationWarning: Call to deprecated function get_sheet_by_name (Use wb[sheetname]).\n",
      "  if sys.path[0] == '':\n",
      "c:\\program files\\python36\\lib\\site-packages\\ipykernel_launcher.py:36: DeprecationWarning: Call to deprecated function get_sheet_by_name (Use wb[sheetname]).\n"
     ]
    },
    {
     "name": "stdout",
     "output_type": "stream",
     "text": [
      "<Cell 'Tracking Sheet output'.A1>\n",
      "VT-240\n"
     ]
    }
   ],
   "source": [
    "# print(sheet.cell(row = 15, column = 2).value)\n",
    "\n",
    "\n",
    "\n",
    "from openpyxl import Workbook, load_workbook\n",
    "import pandas as pd\n",
    "# track = pd.read_csv('Tracking Sheet output.csv')\n",
    "# form = pd.read_excel('PO_format.xlsx')\n",
    "# raw, col = form.shape\n",
    "count = 0\n",
    "\n",
    "sheet = wb.get_sheet_by_name('Tracking Sheet output')\n",
    "\n",
    "for ref in sheet['A']:\n",
    "#     print(ref)\n",
    "    # wb = Workbook()\n",
    "\n",
    "    # grab the active worksheet\n",
    "    # ws = wb.active\n",
    "\n",
    "    # # Data can be assigned directly to cells\n",
    "    # ws['A1'] = 42\n",
    "\n",
    "    # # Rows can also be appended\n",
    "    # ws.append([1, 2, 3])\n",
    "    \n",
    "\n",
    "    # # Python types will automatically be converted\n",
    "    # import datetime\n",
    "    # ws['A2'] = datetime.datetime.now()\n",
    "\n",
    "    # Save the file\n",
    "    \n",
    "    \n",
    "#     print(wb.get_sheet_names())\n",
    "    wb = load_workbook('PO_format.xlsx')\n",
    "    sheet1 = wb.get_sheet_by_name('PO')\n",
    "    for i in range(r):\n",
    "        for j in range(c):\n",
    "            buf = sheet1.cell(row = i+1, column = j+1).value\n",
    "            if buf == 'AAAA':\n",
    "                print(ref)\n",
    "                print(ref.value)\n",
    "                sheet1.cell(row = i+1, column = j+1).value = ref.value\n",
    "#             vLookUp(count, )\n",
    "    \n",
    "    for i in range(r):\n",
    "        for j in range(c):\n",
    "            buf = sheet1.cell(row = i+1, column = j+1).value\n",
    "            if buf == 'AAAA':\n",
    "#                 sheet.cell(row = i+1, column = j+1).value = ref\n",
    "                1\n",
    "\n",
    "    wb.save('PO_output/' + ref.value + \".xlsx\")\n",
    "    count += 1"
   ]
  },
  {
   "cell_type": "code",
   "execution_count": 38,
   "metadata": {},
   "outputs": [
    {
     "data": {
      "text/plain": [
       "<Cell 'Tracking Sheet output'.A2>"
      ]
     },
     "execution_count": 38,
     "metadata": {},
     "output_type": "execute_result"
    }
   ],
   "source": [
    "import pandas as pd\n"
   ]
  },
  {
   "cell_type": "code",
   "execution_count": 91,
   "metadata": {},
   "outputs": [],
   "source": [
    "# import pandas as pd\n",
    "# import numpy as np"
   ]
  },
  {
   "cell_type": "code",
   "execution_count": 92,
   "metadata": {},
   "outputs": [],
   "source": [
    "# p = pd.read_excel('BAHMANI GROUP LLC SQ PI PO.xlsx')\n",
    "# p.to_excel(\"jxvc.xlsx\")"
   ]
  },
  {
   "cell_type": "code",
   "execution_count": 93,
   "metadata": {},
   "outputs": [],
   "source": [
    "# import xlrd \n",
    "  \n",
    "# # Give the location of the file \n",
    "# loc = (\"BAHMANI GROUP LLC SQ PI PO.xlsx\") \n",
    "  \n",
    "# # To open Workbook \n",
    "# wb = xlrd.open_workbook(loc) \n",
    "# sheet = wb.sheet_by_index(0) \n",
    "\n",
    "# sheet.cell_value(9, 0) = 'gdd'\n",
    "# # For row 0 and column 0 \n",
    "# print(sheet.cell_value(9, 0) )\n",
    "\n",
    "# # Extracting number of rows \n",
    "# print(sheet.nrows) \n",
    "\n",
    "# # Extracting number of columns \n",
    "# print(sheet.ncols) "
   ]
  },
  {
   "cell_type": "code",
   "execution_count": 94,
   "metadata": {},
   "outputs": [],
   "source": [
    "# # Program to extract number of \n",
    "# # columns in Python \n",
    "# import xlrd \n",
    "  \n",
    "# loc = (\"BAHMANI GROUP LLC SQ PI PO.xlsx\") \n",
    "  \n",
    "# wb = xlrd.open_workbook(loc) \n",
    "# sheet = wb.sheet_by_index(0) \n",
    "  \n",
    "# # For row 0 and column 0 \n",
    "# sheet.cell_value(27, 0) \n",
    "  \n",
    "# # Extracting number of columns \n",
    "# print(sheet.ncols) "
   ]
  },
  {
   "cell_type": "code",
   "execution_count": 95,
   "metadata": {},
   "outputs": [],
   "source": [
    "# import openpyxl\n",
    "# excel_document = openpyxl.load_workbook('sample.xlsx')"
   ]
  },
  {
   "cell_type": "code",
   "execution_count": 96,
   "metadata": {},
   "outputs": [],
   "source": [
    "# import openpyxl\n",
    "# openpyxl.load_workbook('BEYZADE PETRA.xlsx')"
   ]
  },
  {
   "cell_type": "code",
   "execution_count": 97,
   "metadata": {},
   "outputs": [],
   "source": [
    "# print(type(excel_document))\n"
   ]
  },
  {
   "cell_type": "code",
   "execution_count": 98,
   "metadata": {
    "scrolled": true
   },
   "outputs": [],
   "source": [
    "# excel_document.get_sheet_names()\n",
    "\n"
   ]
  },
  {
   "cell_type": "code",
   "execution_count": 99,
   "metadata": {
    "scrolled": true
   },
   "outputs": [],
   "source": [
    "# sheet = excel_document.get_sheet_by_name('PO')\n",
    "# print(sheet['B5'].value)"
   ]
  },
  {
   "cell_type": "code",
   "execution_count": 101,
   "metadata": {},
   "outputs": [],
   "source": [
    "# multiple_cells = sheet['A1':'B32']\n",
    "# for row in multiple_cells:\n",
    "#     for cell in row:\n",
    "#         print(cell.value)"
   ]
  },
  {
   "cell_type": "code",
   "execution_count": null,
   "metadata": {},
   "outputs": [],
   "source": []
  }
 ],
 "metadata": {
  "kernelspec": {
   "display_name": "Python 3",
   "language": "python",
   "name": "python3"
  },
  "language_info": {
   "codemirror_mode": {
    "name": "ipython",
    "version": 3
   },
   "file_extension": ".py",
   "mimetype": "text/x-python",
   "name": "python",
   "nbconvert_exporter": "python",
   "pygments_lexer": "ipython3",
   "version": "3.6.7"
  }
 },
 "nbformat": 4,
 "nbformat_minor": 2
}
