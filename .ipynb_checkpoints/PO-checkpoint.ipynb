{
 "cells": [
  {
   "cell_type": "code",
   "execution_count": 1,
   "metadata": {},
   "outputs": [],
   "source": [
    "from openpyxl import Workbook, load_workbook\n",
    "import pandas as pd"
   ]
  },
  {
   "cell_type": "code",
   "execution_count": 2,
   "metadata": {},
   "outputs": [],
   "source": [
    "def vLookUp(column, count, track):\n",
    "    return track.iloc[count, column]"
   ]
  },
  {
   "cell_type": "code",
   "execution_count": 4,
   "metadata": {},
   "outputs": [
    {
     "name": "stderr",
     "output_type": "stream",
     "text": [
      "c:\\program files\\python36\\lib\\site-packages\\ipykernel_launcher.py:7: DeprecationWarning: Call to deprecated function get_sheet_by_name (Use wb[sheetname]).\n",
      "  import sys\n"
     ]
    },
    {
     "ename": "KeyError",
     "evalue": "'Worksheet Tracking Sheet output.csv does not exist.'",
     "output_type": "error",
     "traceback": [
      "\u001b[1;31m---------------------------------------------------------------------------\u001b[0m",
      "\u001b[1;31mKeyError\u001b[0m                                  Traceback (most recent call last)",
      "\u001b[1;32m<ipython-input-4-60b3f74d3e21>\u001b[0m in \u001b[0;36m<module>\u001b[1;34m\u001b[0m\n\u001b[0;32m      5\u001b[0m \u001b[0mcount\u001b[0m \u001b[1;33m=\u001b[0m \u001b[1;36m0\u001b[0m\u001b[1;33m\u001b[0m\u001b[1;33m\u001b[0m\u001b[0m\n\u001b[0;32m      6\u001b[0m \u001b[0mwb\u001b[0m \u001b[1;33m=\u001b[0m \u001b[0mload_workbook\u001b[0m\u001b[1;33m(\u001b[0m\u001b[1;34m'PO_format.xlsx'\u001b[0m\u001b[1;33m)\u001b[0m\u001b[1;33m\u001b[0m\u001b[1;33m\u001b[0m\u001b[0m\n\u001b[1;32m----> 7\u001b[1;33m \u001b[0msheet\u001b[0m \u001b[1;33m=\u001b[0m \u001b[0mwb\u001b[0m\u001b[1;33m.\u001b[0m\u001b[0mget_sheet_by_name\u001b[0m\u001b[1;33m(\u001b[0m\u001b[1;34m'Tracking Sheet output.csv'\u001b[0m\u001b[1;33m)\u001b[0m\u001b[1;33m\u001b[0m\u001b[1;33m\u001b[0m\u001b[0m\n\u001b[0m\u001b[0;32m      8\u001b[0m \u001b[1;33m\u001b[0m\u001b[0m\n\u001b[0;32m      9\u001b[0m \u001b[1;32mfor\u001b[0m \u001b[0mref\u001b[0m \u001b[1;32min\u001b[0m \u001b[0mtrack\u001b[0m\u001b[1;33m[\u001b[0m\u001b[1;34m'REF'\u001b[0m\u001b[1;33m]\u001b[0m\u001b[1;33m:\u001b[0m\u001b[1;33m\u001b[0m\u001b[1;33m\u001b[0m\u001b[0m\n",
      "\u001b[1;32mc:\\program files\\python36\\lib\\site-packages\\openpyxl\\compat\\__init__.py\u001b[0m in \u001b[0;36mnew_func1\u001b[1;34m(*args, **kwargs)\u001b[0m\n\u001b[0;32m     53\u001b[0m                     \u001b[0mstacklevel\u001b[0m\u001b[1;33m=\u001b[0m\u001b[1;36m2\u001b[0m\u001b[1;33m\u001b[0m\u001b[1;33m\u001b[0m\u001b[0m\n\u001b[0;32m     54\u001b[0m                 )\n\u001b[1;32m---> 55\u001b[1;33m                 \u001b[1;32mreturn\u001b[0m \u001b[0mfunc1\u001b[0m\u001b[1;33m(\u001b[0m\u001b[1;33m*\u001b[0m\u001b[0margs\u001b[0m\u001b[1;33m,\u001b[0m \u001b[1;33m**\u001b[0m\u001b[0mkwargs\u001b[0m\u001b[1;33m)\u001b[0m\u001b[1;33m\u001b[0m\u001b[1;33m\u001b[0m\u001b[0m\n\u001b[0m\u001b[0;32m     56\u001b[0m \u001b[1;33m\u001b[0m\u001b[0m\n\u001b[0;32m     57\u001b[0m             \u001b[1;31m# Enhance docstring with a deprecation note\u001b[0m\u001b[1;33m\u001b[0m\u001b[1;33m\u001b[0m\u001b[1;33m\u001b[0m\u001b[0m\n",
      "\u001b[1;32mc:\\program files\\python36\\lib\\site-packages\\openpyxl\\workbook\\workbook.py\u001b[0m in \u001b[0;36mget_sheet_by_name\u001b[1;34m(self, name)\u001b[0m\n\u001b[0;32m    250\u001b[0m \u001b[1;33m\u001b[0m\u001b[0m\n\u001b[0;32m    251\u001b[0m         \"\"\"\n\u001b[1;32m--> 252\u001b[1;33m         \u001b[1;32mreturn\u001b[0m \u001b[0mself\u001b[0m\u001b[1;33m[\u001b[0m\u001b[0mname\u001b[0m\u001b[1;33m]\u001b[0m\u001b[1;33m\u001b[0m\u001b[1;33m\u001b[0m\u001b[0m\n\u001b[0m\u001b[0;32m    253\u001b[0m \u001b[1;33m\u001b[0m\u001b[0m\n\u001b[0;32m    254\u001b[0m     \u001b[1;32mdef\u001b[0m \u001b[0m__contains__\u001b[0m\u001b[1;33m(\u001b[0m\u001b[0mself\u001b[0m\u001b[1;33m,\u001b[0m \u001b[0mkey\u001b[0m\u001b[1;33m)\u001b[0m\u001b[1;33m:\u001b[0m\u001b[1;33m\u001b[0m\u001b[1;33m\u001b[0m\u001b[0m\n",
      "\u001b[1;32mc:\\program files\\python36\\lib\\site-packages\\openpyxl\\workbook\\workbook.py\u001b[0m in \u001b[0;36m__getitem__\u001b[1;34m(self, key)\u001b[0m\n\u001b[0;32m    276\u001b[0m             \u001b[1;32mif\u001b[0m \u001b[0msheet\u001b[0m\u001b[1;33m.\u001b[0m\u001b[0mtitle\u001b[0m \u001b[1;33m==\u001b[0m \u001b[0mkey\u001b[0m\u001b[1;33m:\u001b[0m\u001b[1;33m\u001b[0m\u001b[1;33m\u001b[0m\u001b[0m\n\u001b[0;32m    277\u001b[0m                 \u001b[1;32mreturn\u001b[0m \u001b[0msheet\u001b[0m\u001b[1;33m\u001b[0m\u001b[1;33m\u001b[0m\u001b[0m\n\u001b[1;32m--> 278\u001b[1;33m         \u001b[1;32mraise\u001b[0m \u001b[0mKeyError\u001b[0m\u001b[1;33m(\u001b[0m\u001b[1;34m\"Worksheet {0} does not exist.\"\u001b[0m\u001b[1;33m.\u001b[0m\u001b[0mformat\u001b[0m\u001b[1;33m(\u001b[0m\u001b[0mkey\u001b[0m\u001b[1;33m)\u001b[0m\u001b[1;33m)\u001b[0m\u001b[1;33m\u001b[0m\u001b[1;33m\u001b[0m\u001b[0m\n\u001b[0m\u001b[0;32m    279\u001b[0m \u001b[1;33m\u001b[0m\u001b[0m\n\u001b[0;32m    280\u001b[0m     \u001b[1;32mdef\u001b[0m \u001b[0m__delitem__\u001b[0m\u001b[1;33m(\u001b[0m\u001b[0mself\u001b[0m\u001b[1;33m,\u001b[0m \u001b[0mkey\u001b[0m\u001b[1;33m)\u001b[0m\u001b[1;33m:\u001b[0m\u001b[1;33m\u001b[0m\u001b[1;33m\u001b[0m\u001b[0m\n",
      "\u001b[1;31mKeyError\u001b[0m: 'Worksheet Tracking Sheet output.csv does not exist.'"
     ]
    }
   ],
   "source": [
    "\n",
    "track = pd.read_csv('Tracking Sheet output.csv')\n",
    "form = pd.read_excel('PO_format.xlsx', sheet_name= 'PO')\n",
    "raw, col = form.shape\n",
    "count = 0\n",
    "wb = load_workbook('PO_format.xlsx')\n",
    "sheet = wb.get_sheet_by_name('Tracking Sheet output.csv')\n",
    "\n",
    "for ref in track['REF']:\n",
    "    \n",
    "    wb = load_workbook('PO_format.xlsx')\n",
    "    sheet1 = wb.get_sheet_by_name('PO')\n",
    "    for i in range(raw):\n",
    "        for j in range(col):\n",
    "            colnum = count\n",
    "            buf = sheet1.cell(row = i+1, column = j+1).value\n",
    "            if buf == 'AAAA':\n",
    "                sheet1.cell(row = i+1, column = j+1).value = ref\n",
    "                continue\n",
    "                \n",
    "            if buf == 'exp':\n",
    "                sheet1.cell(row = i+1, column = j+1).value = vLookUp(3, count, track)\n",
    "                continue\n",
    "            if buf == 'expcity':\n",
    "                sheet1.cell(row = i+1, column = j+1).value = vLookUp(4, count, track)\n",
    "                continue\n",
    "            if buf == 'imp':\n",
    "                sheet1.cell(row = i+1, column = j+1).value = vLookUp(5, count, track)\n",
    "                continue\n",
    "            if buf == 'impcity':\n",
    "                sheet1.cell(row = i+1, column = j+1).value = vLookUp(6, count, track)\n",
    "                continue\n",
    "            if buf == 'repexp':\n",
    "                sheet1.cell(row = i+1, column = j+1).value = vLookUp(1, count, track)\n",
    "                continue\n",
    "            if buf == 'repexpcity':\n",
    "                sheet1.cell(row = i+1, column = j+1).value = vLookUp(2, count, track)                \n",
    "                continue\n",
    "            if buf == 'datee':\n",
    "                sheet1.cell(row = i+1, column = j+1).value = vLookUp(48, count, track)\n",
    "                continue\n",
    "                \n",
    "            if buf == 'pname1':\n",
    "                sheet1.cell(row = i+1, column = j+1).value = vLookUp(14, count, track)                \n",
    "                continue\n",
    "            if buf == 'unit1':\n",
    "                sheet1.cell(row = i+1, column = j+1).value = vLookUp(16, count, track)                \n",
    "                continue\n",
    "            if buf == 'qty1':\n",
    "                sheet1.cell(row = i+1, column = j+1).value = vLookUp(15, count, track)                \n",
    "                continue\n",
    "            if buf == 'unitp1':\n",
    "                sheet1.cell(row = i+1, column = j+1).value = vLookUp(17, count, track)\n",
    "                continue\n",
    "            if buf == 'amount1':\n",
    "                sheet1.cell(row = i+1, column = j+1).value = vLookUp(18, count, track)                \n",
    "                continue\n",
    "            \n",
    "            if buf == 'pname2':\n",
    "                sheet1.cell(row = i+1, column = j+1).value = vLookUp(19, count, track)                \n",
    "                continue\n",
    "            if buf == 'unit2':\n",
    "                sheet1.cell(row = i+1, column = j+1).value = vLookUp(21, count, track)                \n",
    "                continue\n",
    "            if buf == 'qty2':\n",
    "                sheet1.cell(row = i+1, column = j+1).value = vLookUp(20, count, track)                \n",
    "                continue\n",
    "            if buf == 'unitp2':\n",
    "                sheet1.cell(row = i+1, column = j+1).value = vLookUp(22, count, track)\n",
    "                continue\n",
    "            if buf == 'amount2':\n",
    "                sheet1.cell(row = i+1, column = j+1).value = vLookUp(23, count, track)                \n",
    "                continue\n",
    "\n",
    "            if buf == 'pname3':\n",
    "                sheet1.cell(row = i+1, column = j+1).value = vLookUp(24, count, track)                \n",
    "                continue\n",
    "            if buf == 'unit3':\n",
    "                sheet1.cell(row = i+1, column = j+1).value = vLookUp(26, count, track)                \n",
    "                continue\n",
    "            if buf == 'qty3':\n",
    "                sheet1.cell(row = i+1, column = j+1).value = vLookUp(25, count, track)                \n",
    "                continue\n",
    "            if buf == 'unitp3':\n",
    "                sheet1.cell(row = i+1, column = j+1).value = vLookUp(27, count, track)\n",
    "                continue\n",
    "            if buf == 'amount3':\n",
    "                sheet1.cell(row = i+1, column = j+1).value = vLookUp(28, count, track)                \n",
    "                continue\n",
    "                \n",
    "            if buf == 'pname4':\n",
    "                sheet1.cell(row = i+1, column = j+1).value = vLookUp(29, count, track)                \n",
    "                continue\n",
    "            if buf == 'unit4':\n",
    "                sheet1.cell(row = i+1, column = j+1).value = vLookUp(31, count, track)                \n",
    "                continue\n",
    "            if buf == 'qty4':\n",
    "                sheet1.cell(row = i+1, column = j+1).value = vLookUp(30, count, track)                \n",
    "                continue\n",
    "            if buf == 'unitp4':\n",
    "                sheet1.cell(row = i+1, column = j+1).value = vLookUp(32, count, track)\n",
    "                continue\n",
    "            if buf == 'amount4':\n",
    "                sheet1.cell(row = i+1, column = j+1).value = vLookUp(33, count, track)                \n",
    "                continue\n",
    "                \n",
    "            if buf == 'pname5':\n",
    "                sheet1.cell(row = i+1, column = j+1).value = vLookUp(34, count, track)                \n",
    "                continue\n",
    "            if buf == 'unit5':\n",
    "                sheet1.cell(row = i+1, column = j+1).value = vLookUp(36, count, track)                \n",
    "                continue\n",
    "            if buf == 'qty5':\n",
    "                sheet1.cell(row = i+1, column = j+1).value = vLookUp(35, count, track)\n",
    "                continue\n",
    "            if buf == 'unitp5':\n",
    "                sheet1.cell(row = i+1, column = j+1).value = vLookUp(37, count, track)\n",
    "                continue\n",
    "            if buf == 'amount5':\n",
    "                sheet1.cell(row = i+1, column = j+1).value = vLookUp(38, count, track)                \n",
    "                continue\n",
    "                \n",
    "            if buf == 'amtoword':\n",
    "                sheet1.cell(row = i+1, column = j+1).value = vLookUp(13, count, track)                \n",
    "                continue\n",
    "            if buf == 'origin1':\n",
    "                sheet1.cell(row = i+1, column = j+1).value = vLookUp(9, count, track)                \n",
    "                continue\n",
    "            if buf == 'loading1':\n",
    "                sheet1.cell(row = i+1, column = j+1).value = vLookUp(10, count, track)                \n",
    "                continue\n",
    "            if buf == 'discharge1':\n",
    "                sheet1.cell(row = i+1, column = j+1).value = vLookUp(11, count, track)\n",
    "                continue\n",
    "            if buf == 'amount1':\n",
    "                sheet1.cell(row = i+1, column = j+1).value = vLookUp(12, count, track)                \n",
    "                continue\n",
    "\n",
    "\n",
    "    wb.save('PO_output/' + ref + \".xlsx\")\n",
    "    count += 1"
   ]
  },
  {
   "cell_type": "code",
   "execution_count": 4,
   "metadata": {},
   "outputs": [],
   "source": [
    "# from openpyxl import Workbook, load_workbook\n",
    "# import pandas as pd\n",
    "# # track = pd.read_csv('Tracking Sheet output.csv')\n",
    "# # form = pd.read_excel('PO_format.xlsx')\n",
    "# # raw, col = form.shape\n",
    "# count = 0\n",
    "\n",
    "# sheet = wb.get_sheet_by_name('Tracking Sheet output')\n",
    "# pd.DataFrame(sheet)"
   ]
  },
  {
   "cell_type": "code",
   "execution_count": null,
   "metadata": {},
   "outputs": [],
   "source": [
    "# import pandas as pd\n",
    "# import numpy as np"
   ]
  },
  {
   "cell_type": "code",
   "execution_count": null,
   "metadata": {},
   "outputs": [],
   "source": [
    "# p = pd.read_excel('BAHMANI GROUP LLC SQ PI PO.xlsx')\n",
    "# p.to_excel(\"jxvc.xlsx\")"
   ]
  },
  {
   "cell_type": "code",
   "execution_count": null,
   "metadata": {},
   "outputs": [],
   "source": [
    "# import xlrd \n",
    "  \n",
    "# # Give the location of the file \n",
    "# loc = (\"BAHMANI GROUP LLC SQ PI PO.xlsx\") \n",
    "  \n",
    "# # To open Workbook \n",
    "# wb = xlrd.open_workbook(loc) \n",
    "# sheet = wb.sheet_by_index(0) \n",
    "\n",
    "# sheet.cell_value(9, 0) = 'gdd'\n",
    "# # For row 0 and column 0 \n",
    "# print(sheet.cell_value(9, 0) )\n",
    "\n",
    "# # Extracting number of rows \n",
    "# print(sheet.nrows) \n",
    "\n",
    "# # Extracting number of columns \n",
    "# print(sheet.ncols) "
   ]
  },
  {
   "cell_type": "code",
   "execution_count": null,
   "metadata": {},
   "outputs": [],
   "source": [
    "# # Program to extract number of \n",
    "# # columns in Python \n",
    "# import xlrd \n",
    "  \n",
    "# loc = (\"BAHMANI GROUP LLC SQ PI PO.xlsx\") \n",
    "  \n",
    "# wb = xlrd.open_workbook(loc) \n",
    "# sheet = wb.sheet_by_index(0) \n",
    "  \n",
    "# # For row 0 and column 0 \n",
    "# sheet.cell_value(27, 0) \n",
    "  \n",
    "# # Extracting number of columns \n",
    "# print(sheet.ncols) "
   ]
  },
  {
   "cell_type": "code",
   "execution_count": null,
   "metadata": {},
   "outputs": [],
   "source": [
    "# import openpyxl\n",
    "# excel_document = openpyxl.load_workbook('sample.xlsx')"
   ]
  },
  {
   "cell_type": "code",
   "execution_count": null,
   "metadata": {},
   "outputs": [],
   "source": [
    "# import openpyxl\n",
    "# openpyxl.load_workbook('BEYZADE PETRA.xlsx')"
   ]
  },
  {
   "cell_type": "code",
   "execution_count": null,
   "metadata": {},
   "outputs": [],
   "source": [
    "# print(type(excel_document))\n"
   ]
  },
  {
   "cell_type": "code",
   "execution_count": null,
   "metadata": {
    "scrolled": true
   },
   "outputs": [],
   "source": [
    "# excel_document.get_sheet_names()\n",
    "\n"
   ]
  },
  {
   "cell_type": "code",
   "execution_count": 99,
   "metadata": {
    "scrolled": true
   },
   "outputs": [],
   "source": [
    "# sheet = excel_document.get_sheet_by_name('PO')\n",
    "# print(sheet['B5'].value)"
   ]
  },
  {
   "cell_type": "code",
   "execution_count": 101,
   "metadata": {},
   "outputs": [],
   "source": [
    "# multiple_cells = sheet['A1':'B32']\n",
    "# for row in multiple_cells:\n",
    "#     for cell in row:\n",
    "#         print(cell.value)"
   ]
  },
  {
   "cell_type": "code",
   "execution_count": null,
   "metadata": {},
   "outputs": [],
   "source": []
  }
 ],
 "metadata": {
  "kernelspec": {
   "display_name": "Python 3",
   "language": "python",
   "name": "python3"
  },
  "language_info": {
   "codemirror_mode": {
    "name": "ipython",
    "version": 3
   },
   "file_extension": ".py",
   "mimetype": "text/x-python",
   "name": "python",
   "nbconvert_exporter": "python",
   "pygments_lexer": "ipython3",
   "version": "3.6.7"
  }
 },
 "nbformat": 4,
 "nbformat_minor": 2
}
